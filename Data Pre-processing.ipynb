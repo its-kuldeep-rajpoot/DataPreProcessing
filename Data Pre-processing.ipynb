{
 "cells": [
  {
   "cell_type": "code",
   "execution_count": 1,
   "id": "be2184ad",
   "metadata": {},
   "outputs": [],
   "source": [
    "import pandas as pd"
   ]
  },
  {
   "cell_type": "code",
   "execution_count": 2,
   "id": "c425fd8a",
   "metadata": {},
   "outputs": [],
   "source": [
    "train_data = pd.read_csv(\"Income_Train.csv\")"
   ]
  },
  {
   "cell_type": "code",
   "execution_count": 3,
   "id": "21ab6cd4",
   "metadata": {},
   "outputs": [
    {
     "data": {
      "text/plain": [
       "(209499, 43)"
      ]
     },
     "execution_count": 3,
     "metadata": {},
     "output_type": "execute_result"
    }
   ],
   "source": [
    "train_data.shape"
   ]
  },
  {
   "cell_type": "code",
   "execution_count": 4,
   "id": "0d2e18d9",
   "metadata": {},
   "outputs": [
    {
     "data": {
      "text/plain": [
       "ID                                     0\n",
       "age                                    0\n",
       "gender                                 0\n",
       "education                              0\n",
       "class                             105245\n",
       "education_institute               196197\n",
       "marital_status                         0\n",
       "race                                   0\n",
       "is_hispanic                            0\n",
       "employment_commitment                  0\n",
       "unemployment_reason               202979\n",
       "employment_stat                        0\n",
       "wage_per_hour                          0\n",
       "is_labor_union                    189420\n",
       "working_week_per_year                  0\n",
       "industry_code                          0\n",
       "industry_code_main                     0\n",
       "occupation_code                        0\n",
       "occupation_code_main              105694\n",
       "total_employed                         0\n",
       "household_stat                         0\n",
       "household_summary                      0\n",
       "under_18_family                   151654\n",
       "veterans_admin_questionnaire      207415\n",
       "vet_benefit                            0\n",
       "tax_status                             0\n",
       "gains                                  0\n",
       "losses                                 0\n",
       "stocks_status                          0\n",
       "citizenship                            0\n",
       "mig_year                               0\n",
       "country_of_birth_own                   0\n",
       "country_of_birth_father                0\n",
       "country_of_birth_mother                0\n",
       "migration_code_change_in_msa        1588\n",
       "migration_prev_sunbelt             88452\n",
       "migration_code_move_within_reg      1588\n",
       "migration_code_change_in_reg        1588\n",
       "residence_1_year_ago              106284\n",
       "old_residence_reg                 193148\n",
       "old_residence_state               193148\n",
       "importance_of_record                   0\n",
       "income_above_limit                     0\n",
       "dtype: int64"
      ]
     },
     "execution_count": 4,
     "metadata": {},
     "output_type": "execute_result"
    }
   ],
   "source": [
    "train_data.isnull().sum()"
   ]
  },
  {
   "cell_type": "code",
   "execution_count": 5,
   "id": "27000fff",
   "metadata": {},
   "outputs": [],
   "source": [
    "train_data1 = train_data.drop([\"ID\",\"education_institute\",\"employment_commitment\",\"household_stat\",\"unemployment_reason\",\"is_labor_union\",\"under_18_family\",\"veterans_admin_questionnaire\",\"old_residence_state\",\"old_residence_reg\",\"migration_prev_sunbelt\",\"migration_code_change_in_msa\",\"migration_code_move_within_reg\",\"occupation_code_main\",\"residence_1_year_ago\",\"country_of_birth_own\",\"country_of_birth_father\",\"country_of_birth_mother\",\"migration_code_change_in_reg\"], axis=1)"
   ]
  },
  {
   "cell_type": "code",
   "execution_count": 6,
   "id": "0ead76be",
   "metadata": {},
   "outputs": [
    {
     "data": {
      "text/plain": [
       "(209499, 24)"
      ]
     },
     "execution_count": 6,
     "metadata": {},
     "output_type": "execute_result"
    }
   ],
   "source": [
    "train_data1.shape"
   ]
  },
  {
   "cell_type": "code",
   "execution_count": 7,
   "id": "bb4b0245",
   "metadata": {},
   "outputs": [],
   "source": [
    "pd.set_option(\"display.max_columns\", None)"
   ]
  },
  {
   "cell_type": "code",
   "execution_count": 8,
   "id": "bd10fc2b",
   "metadata": {},
   "outputs": [
    {
     "data": {
      "text/plain": [
       "Index(['gender', 'education', 'class', 'marital_status', 'race', 'is_hispanic',\n",
       "       'industry_code_main', 'household_summary', 'tax_status', 'citizenship',\n",
       "       'income_above_limit'],\n",
       "      dtype='object')"
      ]
     },
     "execution_count": 8,
     "metadata": {},
     "output_type": "execute_result"
    }
   ],
   "source": [
    "obj = train_data1.select_dtypes(include= 'object').columns\n",
    "obj"
   ]
  },
  {
   "cell_type": "code",
   "execution_count": 9,
   "id": "f0d399fc",
   "metadata": {},
   "outputs": [
    {
     "data": {
      "text/plain": [
       "Index(['gender', 'education', 'class', 'marital_status', 'race', 'is_hispanic',\n",
       "       'industry_code_main', 'household_summary', 'tax_status', 'citizenship',\n",
       "       'income_above_limit'],\n",
       "      dtype='object')"
      ]
     },
     "execution_count": 9,
     "metadata": {},
     "output_type": "execute_result"
    }
   ],
   "source": [
    "obj = train_data1.select_dtypes(include= 'object').columns\n",
    "obj"
   ]
  },
  {
   "cell_type": "code",
   "execution_count": 11,
   "id": "29a9c51f",
   "metadata": {},
   "outputs": [
    {
     "data": {
      "text/html": [
       "<div>\n",
       "<style scoped>\n",
       "    .dataframe tbody tr th:only-of-type {\n",
       "        vertical-align: middle;\n",
       "    }\n",
       "\n",
       "    .dataframe tbody tr th {\n",
       "        vertical-align: top;\n",
       "    }\n",
       "\n",
       "    .dataframe thead th {\n",
       "        text-align: right;\n",
       "    }\n",
       "</style>\n",
       "<table border=\"1\" class=\"dataframe\">\n",
       "  <thead>\n",
       "    <tr style=\"text-align: right;\">\n",
       "      <th></th>\n",
       "      <th>age</th>\n",
       "      <th>gender</th>\n",
       "      <th>education</th>\n",
       "      <th>class</th>\n",
       "      <th>marital_status</th>\n",
       "      <th>race</th>\n",
       "      <th>is_hispanic</th>\n",
       "      <th>employment_stat</th>\n",
       "      <th>wage_per_hour</th>\n",
       "      <th>working_week_per_year</th>\n",
       "      <th>industry_code</th>\n",
       "      <th>industry_code_main</th>\n",
       "      <th>occupation_code</th>\n",
       "      <th>total_employed</th>\n",
       "      <th>household_summary</th>\n",
       "      <th>vet_benefit</th>\n",
       "      <th>tax_status</th>\n",
       "      <th>gains</th>\n",
       "      <th>losses</th>\n",
       "      <th>stocks_status</th>\n",
       "      <th>citizenship</th>\n",
       "      <th>mig_year</th>\n",
       "      <th>importance_of_record</th>\n",
       "      <th>income_above_limit</th>\n",
       "    </tr>\n",
       "  </thead>\n",
       "  <tbody>\n",
       "    <tr>\n",
       "      <th>0</th>\n",
       "      <td>79</td>\n",
       "      <td>0</td>\n",
       "      <td>12</td>\n",
       "      <td>8</td>\n",
       "      <td>6</td>\n",
       "      <td>4</td>\n",
       "      <td>0</td>\n",
       "      <td>0</td>\n",
       "      <td>0</td>\n",
       "      <td>52</td>\n",
       "      <td>0</td>\n",
       "      <td>14</td>\n",
       "      <td>0</td>\n",
       "      <td>2</td>\n",
       "      <td>4</td>\n",
       "      <td>2</td>\n",
       "      <td>0</td>\n",
       "      <td>0</td>\n",
       "      <td>0</td>\n",
       "      <td>292</td>\n",
       "      <td>4</td>\n",
       "      <td>95</td>\n",
       "      <td>1779.74</td>\n",
       "      <td>1</td>\n",
       "    </tr>\n",
       "    <tr>\n",
       "      <th>1</th>\n",
       "      <td>65</td>\n",
       "      <td>0</td>\n",
       "      <td>12</td>\n",
       "      <td>8</td>\n",
       "      <td>6</td>\n",
       "      <td>4</td>\n",
       "      <td>0</td>\n",
       "      <td>0</td>\n",
       "      <td>0</td>\n",
       "      <td>0</td>\n",
       "      <td>0</td>\n",
       "      <td>14</td>\n",
       "      <td>0</td>\n",
       "      <td>0</td>\n",
       "      <td>4</td>\n",
       "      <td>2</td>\n",
       "      <td>5</td>\n",
       "      <td>0</td>\n",
       "      <td>0</td>\n",
       "      <td>0</td>\n",
       "      <td>4</td>\n",
       "      <td>94</td>\n",
       "      <td>2366.75</td>\n",
       "      <td>1</td>\n",
       "    </tr>\n",
       "  </tbody>\n",
       "</table>\n",
       "</div>"
      ],
      "text/plain": [
       "   age  gender  education  class  marital_status  race  is_hispanic  \\\n",
       "0   79       0         12      8               6     4            0   \n",
       "1   65       0         12      8               6     4            0   \n",
       "\n",
       "   employment_stat  wage_per_hour  working_week_per_year  industry_code  \\\n",
       "0                0              0                     52              0   \n",
       "1                0              0                      0              0   \n",
       "\n",
       "   industry_code_main  occupation_code  total_employed  household_summary  \\\n",
       "0                  14                0               2                  4   \n",
       "1                  14                0               0                  4   \n",
       "\n",
       "   vet_benefit  tax_status  gains  losses  stocks_status  citizenship  \\\n",
       "0            2           0      0       0            292            4   \n",
       "1            2           5      0       0              0            4   \n",
       "\n",
       "   mig_year  importance_of_record  income_above_limit  \n",
       "0        95               1779.74                   1  \n",
       "1        94               2366.75                   1  "
      ]
     },
     "execution_count": 11,
     "metadata": {},
     "output_type": "execute_result"
    }
   ],
   "source": [
    "from sklearn.preprocessing import LabelEncoder\n",
    "l = LabelEncoder()\n",
    "\n",
    "for i in obj:\n",
    "    train_data1[i]=l.fit_transform(train_data1[i].astype(str))\n",
    "\n",
    "train_data1.head(2)"
   ]
  },
  {
   "cell_type": "code",
   "execution_count": 12,
   "id": "9111af38",
   "metadata": {},
   "outputs": [],
   "source": [
    "train_data1[\"income_above_limit\"] = train_data1[\"income_above_limit\"].map({1:0,0:1})"
   ]
  },
  {
   "cell_type": "code",
   "execution_count": 13,
   "id": "4578f907",
   "metadata": {},
   "outputs": [
    {
     "data": {
      "text/html": [
       "<div>\n",
       "<style scoped>\n",
       "    .dataframe tbody tr th:only-of-type {\n",
       "        vertical-align: middle;\n",
       "    }\n",
       "\n",
       "    .dataframe tbody tr th {\n",
       "        vertical-align: top;\n",
       "    }\n",
       "\n",
       "    .dataframe thead th {\n",
       "        text-align: right;\n",
       "    }\n",
       "</style>\n",
       "<table border=\"1\" class=\"dataframe\">\n",
       "  <thead>\n",
       "    <tr style=\"text-align: right;\">\n",
       "      <th></th>\n",
       "      <th>age</th>\n",
       "      <th>gender</th>\n",
       "      <th>education</th>\n",
       "      <th>class</th>\n",
       "      <th>marital_status</th>\n",
       "      <th>race</th>\n",
       "      <th>is_hispanic</th>\n",
       "      <th>employment_stat</th>\n",
       "      <th>wage_per_hour</th>\n",
       "      <th>working_week_per_year</th>\n",
       "      <th>industry_code</th>\n",
       "      <th>industry_code_main</th>\n",
       "      <th>occupation_code</th>\n",
       "      <th>total_employed</th>\n",
       "      <th>household_summary</th>\n",
       "      <th>vet_benefit</th>\n",
       "      <th>tax_status</th>\n",
       "      <th>gains</th>\n",
       "      <th>losses</th>\n",
       "      <th>stocks_status</th>\n",
       "      <th>citizenship</th>\n",
       "      <th>mig_year</th>\n",
       "      <th>importance_of_record</th>\n",
       "      <th>income_above_limit</th>\n",
       "    </tr>\n",
       "  </thead>\n",
       "  <tbody>\n",
       "    <tr>\n",
       "      <th>0</th>\n",
       "      <td>79</td>\n",
       "      <td>0</td>\n",
       "      <td>12</td>\n",
       "      <td>8</td>\n",
       "      <td>6</td>\n",
       "      <td>4</td>\n",
       "      <td>0</td>\n",
       "      <td>0</td>\n",
       "      <td>0</td>\n",
       "      <td>52</td>\n",
       "      <td>0</td>\n",
       "      <td>14</td>\n",
       "      <td>0</td>\n",
       "      <td>2</td>\n",
       "      <td>4</td>\n",
       "      <td>2</td>\n",
       "      <td>0</td>\n",
       "      <td>0</td>\n",
       "      <td>0</td>\n",
       "      <td>292</td>\n",
       "      <td>4</td>\n",
       "      <td>95</td>\n",
       "      <td>1779.74</td>\n",
       "      <td>0</td>\n",
       "    </tr>\n",
       "    <tr>\n",
       "      <th>1</th>\n",
       "      <td>65</td>\n",
       "      <td>0</td>\n",
       "      <td>12</td>\n",
       "      <td>8</td>\n",
       "      <td>6</td>\n",
       "      <td>4</td>\n",
       "      <td>0</td>\n",
       "      <td>0</td>\n",
       "      <td>0</td>\n",
       "      <td>0</td>\n",
       "      <td>0</td>\n",
       "      <td>14</td>\n",
       "      <td>0</td>\n",
       "      <td>0</td>\n",
       "      <td>4</td>\n",
       "      <td>2</td>\n",
       "      <td>5</td>\n",
       "      <td>0</td>\n",
       "      <td>0</td>\n",
       "      <td>0</td>\n",
       "      <td>4</td>\n",
       "      <td>94</td>\n",
       "      <td>2366.75</td>\n",
       "      <td>0</td>\n",
       "    </tr>\n",
       "  </tbody>\n",
       "</table>\n",
       "</div>"
      ],
      "text/plain": [
       "   age  gender  education  class  marital_status  race  is_hispanic  \\\n",
       "0   79       0         12      8               6     4            0   \n",
       "1   65       0         12      8               6     4            0   \n",
       "\n",
       "   employment_stat  wage_per_hour  working_week_per_year  industry_code  \\\n",
       "0                0              0                     52              0   \n",
       "1                0              0                      0              0   \n",
       "\n",
       "   industry_code_main  occupation_code  total_employed  household_summary  \\\n",
       "0                  14                0               2                  4   \n",
       "1                  14                0               0                  4   \n",
       "\n",
       "   vet_benefit  tax_status  gains  losses  stocks_status  citizenship  \\\n",
       "0            2           0      0       0            292            4   \n",
       "1            2           5      0       0              0            4   \n",
       "\n",
       "   mig_year  importance_of_record  income_above_limit  \n",
       "0        95               1779.74                   0  \n",
       "1        94               2366.75                   0  "
      ]
     },
     "execution_count": 13,
     "metadata": {},
     "output_type": "execute_result"
    }
   ],
   "source": [
    "train_data1.head(2)"
   ]
  },
  {
   "cell_type": "code",
   "execution_count": null,
   "id": "930e5831",
   "metadata": {},
   "outputs": [],
   "source": []
  }
 ],
 "metadata": {
  "kernelspec": {
   "display_name": "Python 3 (ipykernel)",
   "language": "python",
   "name": "python3"
  },
  "language_info": {
   "codemirror_mode": {
    "name": "ipython",
    "version": 3
   },
   "file_extension": ".py",
   "mimetype": "text/x-python",
   "name": "python",
   "nbconvert_exporter": "python",
   "pygments_lexer": "ipython3",
   "version": "3.11.1"
  }
 },
 "nbformat": 4,
 "nbformat_minor": 5
}
